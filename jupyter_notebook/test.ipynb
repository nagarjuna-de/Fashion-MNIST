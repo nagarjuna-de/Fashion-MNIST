{
 "cells": [
  {
   "cell_type": "code",
   "execution_count": 1,
   "metadata": {},
   "outputs": [],
   "source": [
    "# importing required modules\n",
    "import torch as T \n",
    "import torch.nn as nn\n",
    "import torch.optim as optim\n",
    "import torch.nn.functional as F \n",
    "from torchvision import datasets, transforms\n",
    "\n",
    "import matplotlib.pyplot as plt\n",
    "import numpy as np\n",
    "import time\n",
    "from statistics import mean\n",
    "\n",
    "%matplotlib inline\n",
    "%config InlineBackend.figure_format = 'retina'"
   ]
  },
  {
   "cell_type": "code",
   "execution_count": 2,
   "metadata": {},
   "outputs": [],
   "source": [
    "# load the data and split into train and test\n",
    "transform = transforms.Compose([transforms.ToTensor(), transforms.Normalize((0.5),(0.5))])\n",
    "\n",
    "# train set\n",
    "trainset = datasets.FashionMNIST('Data/', download=True, train=True, transform=transform)\n",
    "trainloader = T.utils.data.DataLoader(trainset, batch_size=128, shuffle=True )\n",
    "\n",
    "# test set\n",
    "testset = datasets.FashionMNIST('Data/',download=True, train = False, transform = transform)\n",
    "testloader = T.utils.data.DataLoader(testset, batch_size=128, shuffle=True)"
   ]
  },
  {
   "cell_type": "code",
   "execution_count": 3,
   "metadata": {},
   "outputs": [],
   "source": [
    "def imshow(image, ax=None, title=None, normalize=True):\n",
    "    \"\"\"Imshow for Tensor.\"\"\"\n",
    "    if ax is None:\n",
    "        fig, ax = plt.subplots()\n",
    "    image = image.numpy().transpose((1, 2, 0))\n",
    "\n",
    "    if normalize:\n",
    "        mean = np.array([0.485, 0.456, 0.406])\n",
    "        std = np.array([0.229, 0.224, 0.225])\n",
    "        image = std * image + mean\n",
    "        image = np.clip(image, 0, 1)\n",
    "\n",
    "    ax.imshow(image)\n",
    "    ax.spines['top'].set_visible(False)\n",
    "    ax.spines['right'].set_visible(False)\n",
    "    ax.spines['left'].set_visible(False)\n",
    "    ax.spines['bottom'].set_visible(False)\n",
    "    ax.tick_params(axis='both', length=0)\n",
    "    ax.set_xticklabels('')\n",
    "    ax.set_yticklabels('')\n",
    "\n",
    "    return ax\n",
    "\n",
    "    \n",
    "def view_classify(img, ps, version=\"MNIST\"):\n",
    "    ''' Function for viewing an image and it's predicted classes.\n",
    "    '''\n",
    "    ps = ps.data.numpy().squeeze()\n",
    "\n",
    "    fig, (ax1, ax2) = plt.subplots(figsize=(6,9), ncols=2)\n",
    "    ax1.imshow(img.resize_(1, 28, 28).numpy().squeeze())\n",
    "    ax1.axis('off')\n",
    "    ax2.barh(np.arange(10), ps)\n",
    "    ax2.set_aspect(0.1)\n",
    "    ax2.set_yticks(np.arange(10))\n",
    "    if version == \"MNIST\":\n",
    "        ax2.set_yticklabels(np.arange(10))\n",
    "    elif version == \"Fashion\":\n",
    "        ax2.set_yticklabels(['T-shirt/top',\n",
    "                            'Trouser',\n",
    "                            'Pullover',\n",
    "                            'Dress',\n",
    "                            'Coat',\n",
    "                            'Sandal',\n",
    "                            'Shirt',\n",
    "                            'Sneaker',\n",
    "                            'Bag',\n",
    "                            'Ankle Boot'], size='small');\n",
    "    ax2.set_title('Class Probability')\n",
    "    ax2.set_xlim(0, 1.1)\n",
    "\n",
    "    plt.tight_layout()\n"
   ]
  },
  {
   "cell_type": "code",
   "execution_count": 4,
   "metadata": {},
   "outputs": [
    {
     "data": {
      "image/png": "[encoded data removed]",
      "text/plain": [
       "<Figure size 432x288 with 1 Axes>"
      ]
     },
     "metadata": {
      "image/png": {
       "height": 231,
       "width": 231
      },
      "needs_background": "light"
     },
     "output_type": "display_data"
    }
   ],
   "source": [
    "image, label = next(iter(trainloader))\n",
    "imshow(image[0,:]);"
   ]
  },
  {
   "cell_type": "code",
   "execution_count": 5,
   "metadata": {},
   "outputs": [
    {
     "data": {
      "text/plain": [
       "torch.Size([128, 1, 28, 28])"
      ]
     },
     "execution_count": 5,
     "metadata": {},
     "output_type": "execute_result"
    }
   ],
   "source": [
    "image.shape"
   ]
  },
  {
   "cell_type": "code",
   "execution_count": 6,
   "metadata": {},
   "outputs": [
    {
     "data": {
      "text/plain": [
       "Classifier(\n",
       "  (input_layer): Linear(in_features=784, out_features=600, bias=True)\n",
       "  (hidden1): Linear(in_features=600, out_features=400, bias=True)\n",
       "  (hidden2): Linear(in_features=400, out_features=200, bias=True)\n",
       "  (hidden3): Linear(in_features=200, out_features=100, bias=True)\n",
       "  (output_layer): Linear(in_features=100, out_features=10, bias=True)\n",
       ")"
      ]
     },
     "execution_count": 6,
     "metadata": {},
     "output_type": "execute_result"
    }
   ],
   "source": [
    "class Classifier(nn.Module):\n",
    "    # Deining layers\n",
    "    def __init__(self):\n",
    "        super().__init__()\n",
    "        self.input_layer = nn.Linear(784,600)\n",
    "        self.hidden1 = nn.Linear(600,400)\n",
    "        self.hidden2 = nn.Linear(400,200)\n",
    "        self.hidden3 = nn.Linear(200,100)\n",
    "        self.output_layer = nn.Linear(100,10)\n",
    "\n",
    "    # forward pass through the network\n",
    "    def forward(self, x):\n",
    "        first_layer = self.input_layer(x)\n",
    "        act1 = F.relu(first_layer)\n",
    "        second_layer = self.hidden1(act1)\n",
    "        act2 = F.relu(second_layer)\n",
    "        third_layer = self.hidden2(act2)\n",
    "        act3 = F.relu(third_layer)\n",
    "        fourth_layer = self.hidden3(act3)\n",
    "        act4 = F.relu(fourth_layer)\n",
    "        out_layer = self.output_layer(act4)\n",
    "        #x = F.softmax(out_layer, dim=1)\n",
    "        return out_layer\n",
    "    \n",
    "model = Classifier()\n",
    "model"
   ]
  },
  {
   "cell_type": "code",
   "execution_count": 7,
   "metadata": {},
   "outputs": [],
   "source": [
    "criterion = nn.NLLLoss()\n",
    "optimizer = optim.SGD(model.parameters(), lr=0.003)"
   ]
  },
  {
   "cell_type": "code",
   "execution_count": 8,
   "metadata": {},
   "outputs": [
    {
     "name": "stdout",
     "output_type": "stream",
     "text": [
      "Epoch: 1/20\n",
      "\tIteration: 0\t Loss: 0.0577\n",
      "\tIteration: 40\t Loss: 2.3054\n",
      "\tIteration: 80\t Loss: 2.3038\n",
      "\tIteration: 120\t Loss: 2.3026\n",
      "\tIteration: 160\t Loss: 2.3007\n",
      "\tIteration: 200\t Loss: 2.3009\n",
      "\tIteration: 240\t Loss: 2.2977\n",
      "\tIteration: 280\t Loss: 2.2969\n",
      "\tIteration: 320\t Loss: 2.2958\n",
      "\tIteration: 360\t Loss: 2.2943\n",
      "\tIteration: 400\t Loss: 2.2930\n",
      "\tIteration: 440\t Loss: 2.2911\n",
      "Epoch: 1 | loss: 2.2903716564178467 | test loss: 2.2836954593658447 \n",
      "Epoch: 2/20\n",
      "\tIteration: 0\t Loss: 0.0572\n",
      "\tIteration: 40\t Loss: 2.2884\n",
      "\tIteration: 80\t Loss: 2.2854\n",
      "\tIteration: 120\t Loss: 2.2844\n",
      "\tIteration: 160\t Loss: 2.2837\n",
      "\tIteration: 200\t Loss: 2.2796\n",
      "\tIteration: 240\t Loss: 2.2794\n",
      "\tIteration: 280\t Loss: 2.2753\n",
      "\tIteration: 320\t Loss: 2.2734\n",
      "\tIteration: 360\t Loss: 2.2717\n",
      "\tIteration: 400\t Loss: 2.2677\n",
      "\tIteration: 440\t Loss: 2.2666\n",
      "Epoch: 2 | loss: 2.25414776802063 | test loss: 2.2394907474517822 \n",
      "Epoch: 3/20\n",
      "\tIteration: 0\t Loss: 0.0565\n",
      "\tIteration: 40\t Loss: 2.2599\n",
      "\tIteration: 80\t Loss: 2.2563\n",
      "\tIteration: 120\t Loss: 2.2528\n",
      "\tIteration: 160\t Loss: 2.2469\n",
      "\tIteration: 200\t Loss: 2.2405\n",
      "\tIteration: 240\t Loss: 2.2357\n",
      "\tIteration: 280\t Loss: 2.2297\n",
      "\tIteration: 320\t Loss: 2.2227\n",
      "\tIteration: 360\t Loss: 2.2139\n",
      "\tIteration: 400\t Loss: 2.2039\n",
      "\tIteration: 440\t Loss: 2.1977\n",
      "Epoch: 3 | loss: 2.170912504196167 | test loss: 2.208796501159668 \n",
      "Epoch: 4/20\n",
      "\tIteration: 0\t Loss: 0.0548\n",
      "\tIteration: 40\t Loss: 2.1759\n",
      "\tIteration: 80\t Loss: 2.1562\n",
      "\tIteration: 120\t Loss: 2.1446\n",
      "\tIteration: 160\t Loss: 2.1243\n",
      "\tIteration: 200\t Loss: 2.1048\n",
      "\tIteration: 240\t Loss: 2.0803\n",
      "\tIteration: 280\t Loss: 2.0655\n",
      "\tIteration: 320\t Loss: 2.0311\n",
      "\tIteration: 360\t Loss: 2.0069\n",
      "\tIteration: 400\t Loss: 1.9740\n",
      "\tIteration: 440\t Loss: 1.9462\n",
      "Epoch: 4 | loss: 1.9453412294387817 | test loss: 1.7642468214035034 \n",
      "Epoch: 5/20\n",
      "\tIteration: 0\t Loss: 0.0455\n",
      "\tIteration: 40\t Loss: 1.8947\n",
      "\tIteration: 80\t Loss: 1.8429\n",
      "\tIteration: 120\t Loss: 1.7926\n",
      "\tIteration: 160\t Loss: 1.7580\n",
      "\tIteration: 200\t Loss: 1.7075\n",
      "\tIteration: 240\t Loss: 1.6519\n",
      "\tIteration: 280\t Loss: 1.6055\n",
      "\tIteration: 320\t Loss: 1.5576\n",
      "\tIteration: 360\t Loss: 1.5091\n",
      "\tIteration: 400\t Loss: 1.4766\n",
      "\tIteration: 440\t Loss: 1.4372\n",
      "Epoch: 5 | loss: 1.3704830408096313 | test loss: 1.2883524894714355 \n",
      "Epoch: 6/20\n",
      "\tIteration: 0\t Loss: 0.0338\n",
      "\tIteration: 40\t Loss: 1.3559\n",
      "\tIteration: 80\t Loss: 1.3257\n",
      "\tIteration: 120\t Loss: 1.2949\n",
      "\tIteration: 160\t Loss: 1.2619\n",
      "\tIteration: 200\t Loss: 1.2105\n",
      "\tIteration: 240\t Loss: 1.1940\n",
      "\tIteration: 280\t Loss: 1.1673\n",
      "\tIteration: 320\t Loss: 1.1503\n",
      "\tIteration: 360\t Loss: 1.1082\n",
      "\tIteration: 400\t Loss: 1.0877\n",
      "\tIteration: 440\t Loss: 1.0788\n",
      "Epoch: 6 | loss: 1.0648994445800781 | test loss: 1.1069952249526978 \n",
      "Epoch: 7/20\n",
      "\tIteration: 0\t Loss: 0.0273\n",
      "\tIteration: 40\t Loss: 1.0464\n",
      "\tIteration: 80\t Loss: 1.0234\n",
      "\tIteration: 120\t Loss: 1.0177\n",
      "\tIteration: 160\t Loss: 0.9887\n",
      "\tIteration: 200\t Loss: 0.9775\n",
      "\tIteration: 240\t Loss: 0.9701\n",
      "\tIteration: 280\t Loss: 0.9560\n",
      "\tIteration: 320\t Loss: 0.9474\n",
      "\tIteration: 360\t Loss: 0.9163\n",
      "\tIteration: 400\t Loss: 0.9001\n",
      "\tIteration: 440\t Loss: 0.8916\n",
      "Epoch: 7 | loss: 0.8535062670707703 | test loss: 0.9293591976165771 \n",
      "Epoch: 8/20\n",
      "\tIteration: 0\t Loss: 0.0236\n",
      "\tIteration: 40\t Loss: 0.8973\n",
      "\tIteration: 80\t Loss: 0.8849\n",
      "\tIteration: 120\t Loss: 0.8692\n",
      "\tIteration: 160\t Loss: 0.8448\n",
      "\tIteration: 200\t Loss: 0.8499\n",
      "\tIteration: 240\t Loss: 0.8623\n",
      "\tIteration: 280\t Loss: 0.8298\n",
      "\tIteration: 320\t Loss: 0.8211\n",
      "\tIteration: 360\t Loss: 0.8243\n",
      "\tIteration: 400\t Loss: 0.8140\n",
      "\tIteration: 440\t Loss: 0.8144\n",
      "Epoch: 8 | loss: 0.7314144968986511 | test loss: 0.69459468126297 \n",
      "Epoch: 9/20\n",
      "\tIteration: 0\t Loss: 0.0221\n",
      "\tIteration: 40\t Loss: 0.8030\n",
      "\tIteration: 80\t Loss: 0.7965\n",
      "\tIteration: 120\t Loss: 0.7909\n",
      "\tIteration: 160\t Loss: 0.7999\n",
      "\tIteration: 200\t Loss: 0.7711\n",
      "\tIteration: 240\t Loss: 0.7953\n",
      "\tIteration: 280\t Loss: 0.7695\n",
      "\tIteration: 320\t Loss: 0.7723\n",
      "\tIteration: 360\t Loss: 0.7661\n",
      "\tIteration: 400\t Loss: 0.7505\n",
      "\tIteration: 440\t Loss: 0.7566\n",
      "Epoch: 9 | loss: 0.8626417517662048 | test loss: 0.8335050344467163 \n",
      "Epoch: 10/20\n",
      "\tIteration: 0\t Loss: 0.0200\n",
      "\tIteration: 40\t Loss: 0.7569\n",
      "\tIteration: 80\t Loss: 0.7304\n",
      "\tIteration: 120\t Loss: 0.7369\n",
      "\tIteration: 160\t Loss: 0.7560\n",
      "\tIteration: 200\t Loss: 0.7180\n",
      "\tIteration: 240\t Loss: 0.7309\n",
      "\tIteration: 280\t Loss: 0.7196\n",
      "\tIteration: 320\t Loss: 0.7298\n",
      "\tIteration: 360\t Loss: 0.7144\n",
      "\tIteration: 400\t Loss: 0.7261\n",
      "\tIteration: 440\t Loss: 0.7150\n",
      "Epoch: 10 | loss: 0.6038496494293213 | test loss: 0.7719413042068481 \n",
      "Epoch: 11/20\n",
      "\tIteration: 0\t Loss: 0.0172\n",
      "\tIteration: 40\t Loss: 0.7244\n",
      "\tIteration: 80\t Loss: 0.7062\n",
      "\tIteration: 120\t Loss: 0.7041\n",
      "\tIteration: 160\t Loss: 0.7011\n",
      "\tIteration: 200\t Loss: 0.6940\n",
      "\tIteration: 240\t Loss: 0.6928\n",
      "\tIteration: 280\t Loss: 0.6849\n",
      "\tIteration: 320\t Loss: 0.6945\n",
      "\tIteration: 360\t Loss: 0.6924\n",
      "\tIteration: 400\t Loss: 0.6817\n",
      "\tIteration: 440\t Loss: 0.6830\n",
      "Epoch: 11 | loss: 0.7516528964042664 | test loss: 0.6247961521148682 \n",
      "Epoch: 12/20\n",
      "\tIteration: 0\t Loss: 0.0153\n",
      "\tIteration: 40\t Loss: 0.6755\n",
      "\tIteration: 80\t Loss: 0.6673\n",
      "\tIteration: 120\t Loss: 0.6902\n",
      "\tIteration: 160\t Loss: 0.6677\n",
      "\tIteration: 200\t Loss: 0.6685\n",
      "\tIteration: 240\t Loss: 0.6653\n",
      "\tIteration: 280\t Loss: 0.6977\n",
      "\tIteration: 320\t Loss: 0.6865\n",
      "\tIteration: 360\t Loss: 0.6388\n",
      "\tIteration: 400\t Loss: 0.6590\n",
      "\tIteration: 440\t Loss: 0.6546\n",
      "Epoch: 12 | loss: 0.6565497517585754 | test loss: 0.8606624603271484 \n",
      "Epoch: 13/20\n",
      "\tIteration: 0\t Loss: 0.0150\n",
      "\tIteration: 40\t Loss: 0.6559\n",
      "\tIteration: 80\t Loss: 0.6465\n",
      "\tIteration: 120\t Loss: 0.6684\n",
      "\tIteration: 160\t Loss: 0.6632\n",
      "\tIteration: 200\t Loss: 0.6349\n",
      "\tIteration: 240\t Loss: 0.6383\n",
      "\tIteration: 280\t Loss: 0.6402\n",
      "\tIteration: 320\t Loss: 0.6203\n",
      "\tIteration: 360\t Loss: 0.6499\n",
      "\tIteration: 400\t Loss: 0.6517\n",
      "\tIteration: 440\t Loss: 0.6576\n",
      "Epoch: 13 | loss: 0.5160660743713379 | test loss: 0.4953669607639313 \n",
      "Epoch: 14/20\n",
      "\tIteration: 0\t Loss: 0.0155\n",
      "\tIteration: 40\t Loss: 0.6180\n",
      "\tIteration: 80\t Loss: 0.6298\n",
      "\tIteration: 120\t Loss: 0.6483\n",
      "\tIteration: 160\t Loss: 0.6250\n",
      "\tIteration: 200\t Loss: 0.6123\n",
      "\tIteration: 240\t Loss: 0.6250\n",
      "\tIteration: 280\t Loss: 0.6472\n",
      "\tIteration: 320\t Loss: 0.6090\n",
      "\tIteration: 360\t Loss: 0.6425\n",
      "\tIteration: 400\t Loss: 0.6317\n",
      "\tIteration: 440\t Loss: 0.5951\n",
      "Epoch: 14 | loss: 0.550105631351471 | test loss: 0.7996657490730286 \n",
      "Epoch: 15/20\n",
      "\tIteration: 0\t Loss: 0.0154\n",
      "\tIteration: 40\t Loss: 0.6023\n",
      "\tIteration: 80\t Loss: 0.6159\n",
      "\tIteration: 120\t Loss: 0.6068\n",
      "\tIteration: 160\t Loss: 0.6002\n",
      "\tIteration: 200\t Loss: 0.6126\n",
      "\tIteration: 240\t Loss: 0.6253\n",
      "\tIteration: 280\t Loss: 0.6040\n",
      "\tIteration: 320\t Loss: 0.6200\n",
      "\tIteration: 360\t Loss: 0.6098\n",
      "\tIteration: 400\t Loss: 0.5945\n",
      "\tIteration: 440\t Loss: 0.5921\n",
      "Epoch: 15 | loss: 0.6440208554267883 | test loss: 0.7711712718009949 \n",
      "Epoch: 16/20\n",
      "\tIteration: 0\t Loss: 0.0153\n",
      "\tIteration: 40\t Loss: 0.5940\n",
      "\tIteration: 80\t Loss: 0.5926\n",
      "\tIteration: 120\t Loss: 0.5913\n",
      "\tIteration: 160\t Loss: 0.5809\n",
      "\tIteration: 200\t Loss: 0.5927\n",
      "\tIteration: 240\t Loss: 0.5857\n",
      "\tIteration: 280\t Loss: 0.5826\n",
      "\tIteration: 320\t Loss: 0.6024\n",
      "\tIteration: 360\t Loss: 0.5976\n",
      "\tIteration: 400\t Loss: 0.5939\n",
      "\tIteration: 440\t Loss: 0.5822\n",
      "Epoch: 16 | loss: 0.4895331561565399 | test loss: 0.3404785990715027 \n",
      "Epoch: 17/20\n",
      "\tIteration: 0\t Loss: 0.0136\n",
      "\tIteration: 40\t Loss: 0.5746\n",
      "\tIteration: 80\t Loss: 0.5765\n",
      "\tIteration: 120\t Loss: 0.5805\n",
      "\tIteration: 160\t Loss: 0.6038\n",
      "\tIteration: 200\t Loss: 0.5854\n",
      "\tIteration: 240\t Loss: 0.5698\n",
      "\tIteration: 280\t Loss: 0.5714\n",
      "\tIteration: 320\t Loss: 0.5791\n",
      "\tIteration: 360\t Loss: 0.5886\n",
      "\tIteration: 400\t Loss: 0.5813\n",
      "\tIteration: 440\t Loss: 0.5400\n",
      "Epoch: 17 | loss: 0.4560208320617676 | test loss: 0.4367150664329529 \n",
      "Epoch: 18/20\n",
      "\tIteration: 0\t Loss: 0.0208\n",
      "\tIteration: 40\t Loss: 0.5526\n",
      "\tIteration: 80\t Loss: 0.5668\n",
      "\tIteration: 120\t Loss: 0.5488\n",
      "\tIteration: 160\t Loss: 0.5639\n",
      "\tIteration: 200\t Loss: 0.5577\n",
      "\tIteration: 240\t Loss: 0.5759\n",
      "\tIteration: 280\t Loss: 0.5703\n",
      "\tIteration: 320\t Loss: 0.5514\n",
      "\tIteration: 360\t Loss: 0.5615\n",
      "\tIteration: 400\t Loss: 0.5363\n",
      "\tIteration: 440\t Loss: 0.5724\n",
      "Epoch: 18 | loss: 0.5617154836654663 | test loss: 0.4999125897884369 \n",
      "Epoch: 19/20\n",
      "\tIteration: 0\t Loss: 0.0121\n",
      "\tIteration: 40\t Loss: 0.5552\n",
      "\tIteration: 80\t Loss: 0.5432\n",
      "\tIteration: 120\t Loss: 0.5445\n",
      "\tIteration: 160\t Loss: 0.5485\n",
      "\tIteration: 200\t Loss: 0.5422\n",
      "\tIteration: 240\t Loss: 0.5312\n",
      "\tIteration: 280\t Loss: 0.5498\n",
      "\tIteration: 320\t Loss: 0.5234\n",
      "\tIteration: 360\t Loss: 0.5294\n",
      "\tIteration: 400\t Loss: 0.5711\n",
      "\tIteration: 440\t Loss: 0.5464\n",
      "Epoch: 19 | loss: 0.5998170375823975 | test loss: 0.7462599873542786 \n",
      "Epoch: 20/20\n",
      "\tIteration: 0\t Loss: 0.0119\n",
      "\tIteration: 40\t Loss: 0.5320\n",
      "\tIteration: 80\t Loss: 0.5422\n",
      "\tIteration: 120\t Loss: 0.5336\n",
      "\tIteration: 160\t Loss: 0.5330\n",
      "\tIteration: 200\t Loss: 0.5470\n",
      "\tIteration: 240\t Loss: 0.5312\n",
      "\tIteration: 280\t Loss: 0.5389\n",
      "\tIteration: 320\t Loss: 0.5311\n",
      "\tIteration: 360\t Loss: 0.5389\n",
      "\tIteration: 400\t Loss: 0.5152\n",
      "\tIteration: 440\t Loss: 0.5336\n",
      "Epoch: 20 | loss: 0.44305655360221863 | test loss: 0.6778948903083801 \n"
     ]
    }
   ],
   "source": [
    "epochs = 20\n",
    "print_every = 40\n",
    "final_trl = []\n",
    "final_tel =[]\n",
    "accuracies = []\n",
    "\n",
    "\n",
    "for e in range(epochs):\n",
    "    running_loss = 0\n",
    "    train_losses = []\n",
    "    test_losses = []\n",
    "    batch_acc =[]\n",
    "    print(f\"Epoch: {e+1}/{epochs}\")\n",
    "\n",
    "    for i, (images, labels) in enumerate(iter(trainloader)):\n",
    "\n",
    "\n",
    "        # Flatten MNIST images into a 784 long vector\n",
    "        images.resize_(images.size()[0], 784)\n",
    "        \n",
    "        optimizer.zero_grad()\n",
    "        \n",
    "        logits = model.forward(images)   # 1) Forward pass\n",
    "        pred = F.log_softmax(logits, dim=1)\n",
    "        loss = criterion(pred, labels) # 2) Compute loss\n",
    "        loss.backward()                  # 3) Backward pass\n",
    "        optimizer.step()                 # 4) Update model\n",
    "        \n",
    "        running_loss += loss.item()\n",
    "\n",
    "        train_losses.append(loss.item())\n",
    "        \n",
    "        \n",
    "        if i % print_every == 0:\n",
    "            print(f\"\\tIteration: {i}\\t Loss: {running_loss/print_every:.4f}\")\n",
    "            running_loss = 0\n",
    "\n",
    "    \n",
    "    model.eval()\n",
    "    with T.no_grad():\n",
    "        for i, (images, labels) in enumerate(iter(testloader)):\n",
    "            images.resize_(images.size()[0], 784)\n",
    "\n",
    "            logits = model.forward(images)\n",
    "            test_pred = F.log_softmax(logits, dim=1)\n",
    "\n",
    "            test_loss = criterion(test_pred, labels)\n",
    "\n",
    "            test_losses.append(test_loss.item())\n",
    "\n",
    "            \n",
    "\n",
    "\n",
    "\n",
    "    model.train()\n",
    "    \n",
    "    mean_trl = mean(train_losses)\n",
    "    mean_tel = mean(test_losses)\n",
    "    final_trl.append(mean_trl)\n",
    "    final_tel.append(mean_tel)\n",
    "    \n",
    "\n",
    "    #accuracies.append(acc)\n",
    "    print(f'Epoch: {e + 1} | loss: {loss.item()} | test loss: {test_loss.item()} ')\n",
    "\n"
   ]
  },
  {
   "cell_type": "code",
   "execution_count": 9,
   "metadata": {},
   "outputs": [
    {
     "data": {
      "text/plain": [
       "469"
      ]
     },
     "execution_count": 9,
     "metadata": {},
     "output_type": "execute_result"
    }
   ],
   "source": [
    "len(train_losses)"
   ]
  },
  {
   "cell_type": "code",
   "execution_count": 10,
   "metadata": {},
   "outputs": [
    {
     "data": {
      "image/png": "[encoded data removed]",
      "text/plain": [
       "<Figure size 432x288 with 1 Axes>"
      ]
     },
     "metadata": {
      "image/png": {
       "height": 248,
       "width": 378
      },
      "needs_background": "light"
     },
     "output_type": "display_data"
    }
   ],
   "source": [
    "plt.plot(final_trl, label='train Loss')\n",
    "plt.plot(final_tel, label='test Loss')\n",
    "#plt.plot(accuracies, label='accuracy')\n",
    "plt.legend()\n",
    "plt.show()"
   ]
  },
  {
   "cell_type": "code",
   "execution_count": 11,
   "metadata": {},
   "outputs": [
    {
     "data": {
      "image/png": "[encoded data removed]",
      "text/plain": [
       "<Figure size 432x648 with 2 Axes>"
      ]
     },
     "metadata": {
      "image/png": {
       "height": 216,
       "width": 424
      },
      "needs_background": "light"
     },
     "output_type": "display_data"
    }
   ],
   "source": [
    "images, labels = next(iter(testloader))\n",
    "\n",
    "img = images[18].view(1,784)\n",
    "# Turn off gradients to speed up this part\n",
    "with T.no_grad():\n",
    "    logits = model.forward(img)\n",
    "\n",
    "# Output of the network are logits, need to take softmax for probabilities\n",
    "ps = F.softmax(logits, dim=1)\n",
    "\n",
    "view_classify(img, ps, version='Fashion')"
   ]
  },
  {
   "cell_type": "code",
   "execution_count": 12,
   "metadata": {},
   "outputs": [
    {
     "name": "stdout",
     "output_type": "stream",
     "text": [
      "Accuracy: 100.0%\n"
     ]
    },
    {
     "data": {
      "image/png": "[encoded data removed]",
      "text/plain": [
       "<Figure size 432x648 with 2 Axes>"
      ]
     },
     "metadata": {
      "image/png": {
       "height": 216,
       "width": 424
      },
      "needs_background": "light"
     },
     "output_type": "display_data"
    }
   ],
   "source": [
    "images, labels = next(iter(testloader))\n",
    "\n",
    "img = images[42].view(1,784)\n",
    "# Turn off gradients to speed up this part\n",
    "with T.no_grad():\n",
    "    logits = model.forward(img)\n",
    "\n",
    "# Accuracy\n",
    "ps = F.softmax(logits, dim=1)\n",
    "top_p, top_class = ps.topk(k=1, dim=1)\n",
    "equals = top_class == labels[42].view(*top_class.shape)\n",
    "misclassified = [index for index,value in enumerate(equals) if value.item() is False] \n",
    "accuracy = T.mean(equals.type(T.FloatTensor))\n",
    "print(f'Accuracy: {accuracy.item()*100}%')\n",
    "\n",
    "view_classify(img, ps, version='Fashion')"
   ]
  },
  {
   "cell_type": "code",
   "execution_count": 43,
   "metadata": {},
   "outputs": [],
   "source": [
    "transform1 = transforms.Compose([transforms.Resize([28,28]), transforms.Grayscale(num_output_channels=1), transforms.ToTensor(), transforms.Normalize((0.5),(0.5))])\n",
    "root_dir = r'C:\\Users\\rnr31\\Documents\\GitHub\\Fashion-MNIST\\test_images\\test'\n",
    "test_data = datasets.ImageFolder(root_dir, transform=transform1)\n",
    "test_l = T.utils.data.DataLoader(test_data, shuffle=True)"
   ]
  },
  {
   "cell_type": "code",
   "execution_count": 44,
   "metadata": {},
   "outputs": [
    {
     "data": {
      "text/plain": [
       "tensor(0)"
      ]
     },
     "execution_count": 44,
     "metadata": {},
     "output_type": "execute_result"
    },
    {
     "data": {
      "image/png": "[encoded data removed]",
      "text/plain": [
       "<Figure size 432x288 with 1 Axes>"
      ]
     },
     "metadata": {
      "image/png": {
       "height": 231,
       "width": 231
      },
      "needs_background": "light"
     },
     "output_type": "display_data"
    }
   ],
   "source": [
    "image, label = next(iter(test_l))\n",
    "imshow(image[0,:]);\n",
    "label[0]"
   ]
  },
  {
   "cell_type": "code",
   "execution_count": 50,
   "metadata": {},
   "outputs": [
    {
     "data": {
      "image/png": "[encoded data removed]",
      "text/plain": [
       "<Figure size 432x648 with 2 Axes>"
      ]
     },
     "metadata": {
      "image/png": {
       "height": 216,
       "width": 424
      },
      "needs_background": "light"
     },
     "output_type": "display_data"
    }
   ],
   "source": [
    "images, labels = next(iter(testloader))\n",
    "\n",
    "img = images[0].view(1,784)\n",
    "# Turn off gradients to speed up this part\n",
    "with T.no_grad():\n",
    "    logits = model.forward(img)\n",
    "\n",
    "# Output of the network are logits, need to take softmax for probabilities\n",
    "ps = F.softmax(logits, dim=1)\n",
    "\n",
    "view_classify(img, ps, version='Fashion')"
   ]
  }
 ],
 "metadata": {
  "interpreter": {
   "hash": "0d2eac5464fc2e87cb93eb40af5f568dfd8212119c3ce5d2e079388acbe40c19"
  },
  "kernelspec": {
   "display_name": "Python 3.8.13 ('dl22')",
   "language": "python",
   "name": "python3"
  },
  "language_info": {
   "codemirror_mode": {
    "name": "ipython",
    "version": 3
   },
   "file_extension": ".py",
   "mimetype": "text/x-python",
   "name": "python",
   "nbconvert_exporter": "python",
   "pygments_lexer": "ipython3",
   "version": "3.8.13"
  },
  "orig_nbformat": 4
 },
 "nbformat": 4,
 "nbformat_minor": 2
}
