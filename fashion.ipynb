{
 "cells": [
  {
   "cell_type": "code",
   "execution_count": 32,
   "metadata": {},
   "outputs": [],
   "source": [
    "%matplotlib inline\n",
    "%config InlineBackend.figure_format = 'retina'\n",
    "\n",
    "from collections import OrderedDict\n",
    "\n",
    "import numpy as np\n",
    "import matplotlib.pyplot as plt\n",
    "import time\n",
    "\n",
    "import torch\n",
    "from torch import nn\n",
    "from torch import optim\n",
    "import torch.nn.functional as F\n",
    "\n",
    "from torchvision import datasets, transforms"
   ]
  },
  {
   "cell_type": "code",
   "execution_count": 33,
   "metadata": {},
   "outputs": [],
   "source": [
    "# load dataset \n",
    "# Define a transform to normalize the data\n",
    "transform = transforms.Compose([transforms.ToTensor(),\n",
    "                                transforms.Normalize((0.5,), (0.5,))])\n",
    "# Download and load the training data\n",
    "trainset = datasets.FashionMNIST('~/.pytorch/F_MNIST_data/', download=True, train=True, transform=transform)\n",
    "trainloader = torch.utils.data.DataLoader(trainset, batch_size=64, shuffle=True)\n",
    "\n",
    "# Download and load the test data\n",
    "testset = datasets.FashionMNIST('~/.pytorch/F_MNIST_data/', download=True, train=False, transform=transform)\n",
    "testloader = torch.utils.data.DataLoader(testset, batch_size=64, shuffle=True)"
   ]
  },
  {
   "cell_type": "code",
   "execution_count": 34,
   "metadata": {},
   "outputs": [],
   "source": [
    "# visualize torch vector and sample prediction\n",
    "\n",
    "import matplotlib.pyplot as plt\n",
    "import numpy as np\n",
    "\n",
    "def imshow(image, ax=None, title=None, normalize=True):\n",
    "    \"\"\"Imshow for Tensor.\"\"\"\n",
    "    if ax is None:\n",
    "        fig, ax = plt.subplots()\n",
    "    image = image.numpy().transpose((1, 2, 0))\n",
    "\n",
    "    if normalize:\n",
    "        mean = np.array([0.485, 0.456, 0.406])\n",
    "        std = np.array([0.229, 0.224, 0.225])\n",
    "        image = std * image + mean\n",
    "        image = np.clip(image, 0, 1)\n",
    "\n",
    "    ax.imshow(image)\n",
    "    ax.spines['top'].set_visible(False)\n",
    "    ax.spines['right'].set_visible(False)\n",
    "    ax.spines['left'].set_visible(False)\n",
    "    ax.spines['bottom'].set_visible(False)\n",
    "    ax.tick_params(axis='both', length=0)\n",
    "    ax.set_xticklabels('')\n",
    "    ax.set_yticklabels('')\n",
    "\n",
    "    return ax\n",
    "\n",
    "def view_classify(img, ps, version=\"MNIST\"):\n",
    "    ''' Function for viewing an image and it's predicted classes.\n",
    "    '''\n",
    "    ps = ps.data.numpy().squeeze()\n",
    "\n",
    "    fig, (ax1, ax2) = plt.subplots(figsize=(6,9), ncols=2)\n",
    "    ax1.imshow(img.resize_(1, 28, 28).numpy().squeeze())\n",
    "    ax1.axis('off')\n",
    "    ax2.barh(np.arange(10), ps)\n",
    "    ax2.set_aspect(0.1)\n",
    "    ax2.set_yticks(np.arange(10))\n",
    "    if version == \"MNIST\":\n",
    "        ax2.set_yticklabels(np.arange(10))\n",
    "    elif version == \"Fashion\":\n",
    "        ax2.set_yticklabels(['T-shirt/top',\n",
    "                            'Trouser',\n",
    "                            'Pullover',\n",
    "                            'Dress',\n",
    "                            'Coat',\n",
    "                            'Sandal',\n",
    "                            'Shirt',\n",
    "                            'Sneaker',\n",
    "                            'Bag',\n",
    "                            'Ankle Boot'], size='small');\n",
    "    ax2.set_title('Class Probability')\n",
    "    ax2.set_xlim(0, 1.1)\n",
    "\n",
    "    plt.tight_layout()"
   ]
  },
  {
   "cell_type": "code",
   "execution_count": 35,
   "metadata": {},
   "outputs": [
    {
     "data": {
      "image/png": "[encoded data removed]",
      "text/plain": [
       "<Figure size 432x288 with 1 Axes>"
      ]
     },
     "metadata": {
      "image/png": {
       "height": 231,
       "width": 231
      },
      "needs_background": "light"
     },
     "output_type": "display_data"
    }
   ],
   "source": [
    "image, label = next(iter(trainloader))\n",
    "imshow(image[0,:]);"
   ]
  },
  {
   "cell_type": "code",
   "execution_count": 129,
   "metadata": {},
   "outputs": [
    {
     "data": {
      "text/plain": [
       "Fashion(\n",
       "  (fc1): Linear(in_features=784, out_features=400, bias=True)\n",
       "  (bn1): BatchNorm1d(400, eps=1e-05, momentum=0.1, affine=True, track_running_stats=True)\n",
       "  (fc2): Linear(in_features=400, out_features=200, bias=True)\n",
       "  (bn2): BatchNorm1d(200, eps=1e-05, momentum=0.1, affine=True, track_running_stats=True)\n",
       "  (fc3): Linear(in_features=200, out_features=100, bias=True)\n",
       "  (bn3): BatchNorm1d(100, eps=1e-05, momentum=0.1, affine=True, track_running_stats=True)\n",
       "  (out): Linear(in_features=100, out_features=10, bias=True)\n",
       "  (do): Dropout(p=0.2, inplace=True)\n",
       ")"
      ]
     },
     "execution_count": 129,
     "metadata": {},
     "output_type": "execute_result"
    }
   ],
   "source": [
    "class Fashion(nn.Module):\n",
    "    \n",
    "    # Defining the layers, 128, 64, 10 units each\n",
    "    def __init__(self):\n",
    "        super(Fashion, self).__init__()\n",
    "        self.fc1 = nn.Linear(784, 400)\n",
    "        self.bn1 = nn.BatchNorm1d(400) # Batcn Norm for the first layer\n",
    "        self.fc2 = nn.Linear(400, 200)\n",
    "        self.bn2 = nn.BatchNorm1d(200) # Batcn Norm for the secon layer\n",
    "        self.fc3 = nn.Linear(200, 100)\n",
    "        self.bn3 = nn.BatchNorm1d(100)  # Batcn Norm for the third layer\n",
    "        self.out = nn.Linear(100, 10)\n",
    "        self.do  = nn.Dropout(0.2, inplace=True)\n",
    "        \n",
    "    # Forward pass through the network, returns the output logits\n",
    "    def forward(self, x):\n",
    "        x = F.relu(self.bn1(self.do(self.fc1(x))))\n",
    "        x = F.relu(self.bn2(self.do(self.fc2(x))))\n",
    "        x = F.relu(self.bn3(self.do(self.fc3(x))))\n",
    "        return self.out(x)\n",
    "\n",
    "model = Fashion()\n",
    "model"
   ]
  },
  {
   "cell_type": "code",
   "execution_count": 141,
   "metadata": {},
   "outputs": [],
   "source": [
    "\n",
    "#images, labels = next(iter(testloader))\n",
    "#images.resize_(images.shape[0], 1, 784)\n",
    "#logit = model.forward(images[0,:])\n",
    "#ps = F.softmax(logit, dim =1)\n",
    "#print(ps)\n",
    "#view_classify(images[0].view(1, 28, 28), ps)"
   ]
  },
  {
   "cell_type": "code",
   "execution_count": 68,
   "metadata": {},
   "outputs": [],
   "source": [
    "optimizer = optim.Adam(model.parameters(), lr=0.003)\n",
    "criterion = nn.CrossEntropyLoss()"
   ]
  },
  {
   "cell_type": "code",
   "execution_count": null,
   "metadata": {},
   "outputs": [],
   "source": []
  },
  {
   "cell_type": "code",
   "execution_count": 69,
   "metadata": {},
   "outputs": [
    {
     "name": "stdout",
     "output_type": "stream",
     "text": [
      "Epoch: 1/5\n",
      "\tIteration: 0\t Loss: 0.0576\n",
      "\tIteration: 40\t Loss: 1.9812\n",
      "\tIteration: 80\t Loss: 1.9419\n",
      "\tIteration: 120\t Loss: 1.9051\n",
      "\tIteration: 160\t Loss: 1.8912\n",
      "\tIteration: 200\t Loss: 1.9004\n",
      "\tIteration: 240\t Loss: 1.8821\n",
      "\tIteration: 280\t Loss: 1.8953\n",
      "\tIteration: 320\t Loss: 1.8622\n",
      "\tIteration: 360\t Loss: 1.8979\n",
      "\tIteration: 400\t Loss: 1.8940\n",
      "\tIteration: 440\t Loss: 1.8649\n",
      "\tIteration: 480\t Loss: 1.8774\n",
      "\tIteration: 520\t Loss: 1.8713\n",
      "\tIteration: 560\t Loss: 1.9016\n",
      "\tIteration: 600\t Loss: 1.8944\n",
      "\tIteration: 640\t Loss: 1.9490\n",
      "\tIteration: 680\t Loss: 2.0314\n",
      "\tIteration: 720\t Loss: 2.0418\n",
      "\tIteration: 760\t Loss: 2.0246\n",
      "\tIteration: 800\t Loss: 2.0129\n",
      "\tIteration: 840\t Loss: 1.9585\n",
      "\tIteration: 880\t Loss: 2.0009\n",
      "\tIteration: 920\t Loss: 2.0525\n",
      "Epoch: 2/5\n",
      "\tIteration: 0\t Loss: 0.0471\n",
      "\tIteration: 40\t Loss: 1.9753\n",
      "\tIteration: 80\t Loss: 1.9868\n",
      "\tIteration: 120\t Loss: 1.9674\n",
      "\tIteration: 160\t Loss: 1.9873\n",
      "\tIteration: 200\t Loss: 2.1049\n",
      "\tIteration: 240\t Loss: 2.0656\n",
      "\tIteration: 280\t Loss: 2.0126\n",
      "\tIteration: 320\t Loss: 2.0206\n",
      "\tIteration: 360\t Loss: 2.0320\n",
      "\tIteration: 400\t Loss: 2.0414\n",
      "\tIteration: 440\t Loss: 2.1078\n",
      "\tIteration: 480\t Loss: 2.0270\n",
      "\tIteration: 520\t Loss: 2.0315\n",
      "\tIteration: 560\t Loss: 2.1435\n",
      "\tIteration: 600\t Loss: 2.0659\n",
      "\tIteration: 640\t Loss: 2.0519\n",
      "\tIteration: 680\t Loss: 2.1201\n",
      "\tIteration: 720\t Loss: 2.1197\n",
      "\tIteration: 760\t Loss: 2.1112\n",
      "\tIteration: 800\t Loss: 2.2150\n",
      "\tIteration: 840\t Loss: 2.2137\n",
      "\tIteration: 880\t Loss: 2.2076\n",
      "\tIteration: 920\t Loss: 2.2685\n",
      "Epoch: 3/5\n",
      "\tIteration: 0\t Loss: 0.0565\n",
      "\tIteration: 40\t Loss: 2.3088\n",
      "\tIteration: 80\t Loss: 2.2881\n",
      "\tIteration: 120\t Loss: 2.2889\n",
      "\tIteration: 160\t Loss: 2.3037\n",
      "\tIteration: 200\t Loss: 2.3041\n",
      "\tIteration: 240\t Loss: 2.3123\n",
      "\tIteration: 280\t Loss: 2.3080\n",
      "\tIteration: 320\t Loss: 2.3092\n",
      "\tIteration: 360\t Loss: 2.3096\n",
      "\tIteration: 400\t Loss: 2.2971\n",
      "\tIteration: 440\t Loss: 2.3061\n",
      "\tIteration: 480\t Loss: 2.2900\n",
      "\tIteration: 520\t Loss: 2.2951\n",
      "\tIteration: 560\t Loss: 2.3006\n",
      "\tIteration: 600\t Loss: 2.2501\n",
      "\tIteration: 640\t Loss: 2.2229\n",
      "\tIteration: 680\t Loss: 2.1963\n",
      "\tIteration: 720\t Loss: 2.2092\n",
      "\tIteration: 760\t Loss: 2.2139\n",
      "\tIteration: 800\t Loss: 2.2108\n",
      "\tIteration: 840\t Loss: 2.2287\n",
      "\tIteration: 880\t Loss: 2.2205\n",
      "\tIteration: 920\t Loss: 2.2139\n",
      "Epoch: 4/5\n",
      "\tIteration: 0\t Loss: 0.0561\n",
      "\tIteration: 40\t Loss: 2.2455\n",
      "\tIteration: 80\t Loss: 2.2315\n",
      "\tIteration: 120\t Loss: 2.2295\n",
      "\tIteration: 160\t Loss: 2.2306\n",
      "\tIteration: 200\t Loss: 2.1744\n",
      "\tIteration: 240\t Loss: 2.1678\n",
      "\tIteration: 280\t Loss: 2.1701\n",
      "\tIteration: 320\t Loss: 2.1725\n",
      "\tIteration: 360\t Loss: 2.1748\n",
      "\tIteration: 400\t Loss: 2.1639\n",
      "\tIteration: 440\t Loss: 2.1830\n",
      "\tIteration: 480\t Loss: 2.1615\n",
      "\tIteration: 520\t Loss: 2.1705\n",
      "\tIteration: 560\t Loss: 2.1623\n",
      "\tIteration: 600\t Loss: 2.1799\n",
      "\tIteration: 640\t Loss: 2.1951\n",
      "\tIteration: 680\t Loss: 2.1963\n",
      "\tIteration: 720\t Loss: 2.1901\n",
      "\tIteration: 760\t Loss: 2.1826\n",
      "\tIteration: 800\t Loss: 2.1940\n",
      "\tIteration: 840\t Loss: 2.2014\n",
      "\tIteration: 880\t Loss: 2.1908\n",
      "\tIteration: 920\t Loss: 2.1826\n",
      "Epoch: 5/5\n",
      "\tIteration: 0\t Loss: 0.0561\n",
      "\tIteration: 40\t Loss: 2.1924\n",
      "\tIteration: 80\t Loss: 2.1694\n",
      "\tIteration: 120\t Loss: 2.1850\n",
      "\tIteration: 160\t Loss: 2.1682\n",
      "\tIteration: 200\t Loss: 2.1732\n",
      "\tIteration: 240\t Loss: 2.1904\n",
      "\tIteration: 280\t Loss: 2.2658\n",
      "\tIteration: 320\t Loss: 2.2815\n",
      "\tIteration: 360\t Loss: 2.2658\n",
      "\tIteration: 400\t Loss: 2.2850\n",
      "\tIteration: 440\t Loss: 2.2709\n",
      "\tIteration: 480\t Loss: 2.2600\n",
      "\tIteration: 520\t Loss: 2.2686\n",
      "\tIteration: 560\t Loss: 2.2838\n",
      "\tIteration: 600\t Loss: 2.2893\n",
      "\tIteration: 640\t Loss: 2.2830\n",
      "\tIteration: 680\t Loss: 2.2881\n",
      "\tIteration: 720\t Loss: 2.2999\n",
      "\tIteration: 760\t Loss: 2.2957\n",
      "\tIteration: 800\t Loss: 2.2514\n",
      "\tIteration: 840\t Loss: 2.2666\n",
      "\tIteration: 880\t Loss: 2.2683\n",
      "\tIteration: 920\t Loss: 2.2795\n"
     ]
    }
   ],
   "source": [
    "# training loop\n",
    "\n",
    "epochs = 5\n",
    "print_every = 40\n",
    "\n",
    "for e in range(epochs):\n",
    "    running_loss = 0\n",
    "    print(f\"Epoch: {e+1}/{epochs}\")\n",
    "\n",
    "    for i, (images, labels) in enumerate(iter(trainloader)):\n",
    "\n",
    "        # Flatten MNIST images into a 784 long vector\n",
    "        images.resize_(images.size()[0], 784)\n",
    "        \n",
    "        optimizer.zero_grad()\n",
    "        \n",
    "        output = model.forward(images)   # 1) Forward pass\n",
    "        loss = criterion(output, labels) # 2) Compute loss\n",
    "        loss.backward()                  # 3) Backward pass\n",
    "        optimizer.step()                 # 4) Update model\n",
    "        \n",
    "        running_loss += loss.item()\n",
    "        \n",
    "        if i % print_every == 0:\n",
    "            print(f\"\\tIteration: {i}\\t Loss: {running_loss/print_every:.4f}\")\n",
    "            running_loss = 0"
   ]
  },
  {
   "cell_type": "code",
   "execution_count": 111,
   "metadata": {},
   "outputs": [
    {
     "name": "stdout",
     "output_type": "stream",
     "text": [
      "tensor([[0.0853, 0.0853, 0.0853, 0.2320, 0.0853, 0.0853, 0.0853, 0.0853, 0.0853,\n",
      "         0.0853]], grad_fn=<SoftmaxBackward0>)\n"
     ]
    },
    {
     "data": {
      "image/png": "[encoded data removed]",
      "text/plain": [
       "<Figure size 432x648 with 2 Axes>"
      ]
     },
     "metadata": {
      "image/png": {
       "height": 235,
       "width": 424
      },
      "needs_background": "light"
     },
     "output_type": "display_data"
    }
   ],
   "source": [
    "# check predicts well\n",
    "\n",
    "images, labels = next(iter(testloader))\n",
    "images.resize_(images.shape[0], 1, 784)\n",
    "logit = model.forward(images[0,:])\n",
    "ps = F.softmax(logit, dim =1)\n",
    "print(ps)\n",
    "view_classify(images[0].view(1, 28, 28), ps)"
   ]
  },
  {
   "cell_type": "code",
   "execution_count": null,
   "metadata": {},
   "outputs": [],
   "source": []
  },
  {
   "cell_type": "code",
   "execution_count": 75,
   "metadata": {},
   "outputs": [
    {
     "name": "stdout",
     "output_type": "stream",
     "text": [
      "tensor([[8]])\n"
     ]
    }
   ],
   "source": [
    "# tips for validation\n",
    "top_p, top_class = ps.topk(1, dim=1)\n",
    "# Look at the most likely classes for the first 10 examples\n",
    "print(top_class[:10,:])"
   ]
  },
  {
   "cell_type": "code",
   "execution_count": 76,
   "metadata": {},
   "outputs": [
    {
     "ename": "RuntimeError",
     "evalue": "shape '[1, 1]' is invalid for input of size 64",
     "output_type": "error",
     "traceback": [
      "\u001b[1;31m---------------------------------------------------------------------------\u001b[0m",
      "\u001b[1;31mRuntimeError\u001b[0m                              Traceback (most recent call last)",
      "\u001b[1;32mc:\\Users\\rujek\\Documents\\GitHub\\Deep_learning\\Fashion-MNIST\\fashion.ipynb Cell 12'\u001b[0m in \u001b[0;36m<module>\u001b[1;34m\u001b[0m\n\u001b[1;32m----> <a href='vscode-notebook-cell:/c%3A/Users/rujek/Documents/GitHub/Deep_learning/Fashion-MNIST/fashion.ipynb#ch0000015?line=0'>1</a>\u001b[0m equals \u001b[39m=\u001b[39m top_class \u001b[39m==\u001b[39m labels\u001b[39m.\u001b[39;49mview(\u001b[39m*\u001b[39;49mtop_class\u001b[39m.\u001b[39;49mshape)\n",
      "\u001b[1;31mRuntimeError\u001b[0m: shape '[1, 1]' is invalid for input of size 64"
     ]
    }
   ],
   "source": [
    "equals = top_class == labels.view(*top_class.shape)"
   ]
  },
  {
   "cell_type": "code",
   "execution_count": 30,
   "metadata": {},
   "outputs": [
    {
     "ename": "NameError",
     "evalue": "name 'equals' is not defined",
     "output_type": "error",
     "traceback": [
      "\u001b[1;31m---------------------------------------------------------------------------\u001b[0m",
      "\u001b[1;31mNameError\u001b[0m                                 Traceback (most recent call last)",
      "\u001b[1;32mc:\\Users\\rujek\\Documents\\GitHub\\Deep_learning\\Fashion-MNIST\\fashion.ipynb Cell 9'\u001b[0m in \u001b[0;36m<module>\u001b[1;34m\u001b[0m\n\u001b[1;32m----> <a href='vscode-notebook-cell:/c%3A/Users/rujek/Documents/GitHub/Deep_learning/Fashion-MNIST/fashion.ipynb#ch0000016?line=0'>1</a>\u001b[0m misclassified \u001b[39m=\u001b[39m [index \u001b[39mfor\u001b[39;00m index,value \u001b[39min\u001b[39;00m \u001b[39menumerate\u001b[39m(equals) \u001b[39mif\u001b[39;00m value\u001b[39m.\u001b[39mitem() \u001b[39mis\u001b[39;00m \u001b[39mFalse\u001b[39;00m]\n",
      "\u001b[1;31mNameError\u001b[0m: name 'equals' is not defined"
     ]
    }
   ],
   "source": [
    "misclassified = [index for index,value in enumerate(equals) if value.item() is False] "
   ]
  },
  {
   "cell_type": "code",
   "execution_count": 31,
   "metadata": {},
   "outputs": [
    {
     "ename": "NameError",
     "evalue": "name 'equals' is not defined",
     "output_type": "error",
     "traceback": [
      "\u001b[1;31m---------------------------------------------------------------------------\u001b[0m",
      "\u001b[1;31mNameError\u001b[0m                                 Traceback (most recent call last)",
      "\u001b[1;32mc:\\Users\\rujek\\Documents\\GitHub\\Deep_learning\\Fashion-MNIST\\fashion.ipynb Cell 10'\u001b[0m in \u001b[0;36m<module>\u001b[1;34m\u001b[0m\n\u001b[0;32m      <a href='vscode-notebook-cell:/c%3A/Users/rujek/Documents/GitHub/Deep_learning/Fashion-MNIST/fashion.ipynb#ch0000017?line=0'>1</a>\u001b[0m \u001b[39m# compute accuracy\u001b[39;00m\n\u001b[1;32m----> <a href='vscode-notebook-cell:/c%3A/Users/rujek/Documents/GitHub/Deep_learning/Fashion-MNIST/fashion.ipynb#ch0000017?line=2'>3</a>\u001b[0m accuracy \u001b[39m=\u001b[39m torch\u001b[39m.\u001b[39mmean(equals\u001b[39m.\u001b[39mtype(torch\u001b[39m.\u001b[39mFloatTensor))\n\u001b[0;32m      <a href='vscode-notebook-cell:/c%3A/Users/rujek/Documents/GitHub/Deep_learning/Fashion-MNIST/fashion.ipynb#ch0000017?line=3'>4</a>\u001b[0m \u001b[39mprint\u001b[39m(\u001b[39mf\u001b[39m\u001b[39m'\u001b[39m\u001b[39mAccuracy: \u001b[39m\u001b[39m{\u001b[39;00maccuracy\u001b[39m.\u001b[39mitem()\u001b[39m*\u001b[39m\u001b[39m100\u001b[39m\u001b[39m}\u001b[39;00m\u001b[39m%\u001b[39m\u001b[39m'\u001b[39m)\n",
      "\u001b[1;31mNameError\u001b[0m: name 'equals' is not defined"
     ]
    }
   ],
   "source": [
    "# compute accuracy\n",
    "\n",
    "accuracy = torch.mean(equals.type(torch.FloatTensor))\n",
    "print(f'Accuracy: {accuracy.item()*100}%')"
   ]
  },
  {
   "cell_type": "code",
   "execution_count": null,
   "metadata": {},
   "outputs": [],
   "source": [
    "# save and load model\n",
    "torch.save(model.state_dict(), 'checkpoint.pth')"
   ]
  },
  {
   "cell_type": "code",
   "execution_count": null,
   "metadata": {},
   "outputs": [],
   "source": [
    "state_dict = torch.load('checkpoint.pth')\n",
    "print(state_dict.keys())"
   ]
  },
  {
   "cell_type": "code",
   "execution_count": null,
   "metadata": {},
   "outputs": [],
   "source": [
    "model.load_state_dict(state_dict)"
   ]
  }
 ],
 "metadata": {
  "interpreter": {
   "hash": "3d9dac11d33c8124df76be2d536cf81855f1e36a1c8ea739aa2eea81492656c9"
  },
  "kernelspec": {
   "display_name": "Python 3.8.12 ('strive')",
   "language": "python",
   "name": "python3"
  },
  "language_info": {
   "codemirror_mode": {
    "name": "ipython",
    "version": 3
   },
   "file_extension": ".py",
   "mimetype": "text/x-python",
   "name": "python",
   "nbconvert_exporter": "python",
   "pygments_lexer": "ipython3",
   "version": "3.8.12"
  },
  "orig_nbformat": 4
 },
 "nbformat": 4,
 "nbformat_minor": 2
}
